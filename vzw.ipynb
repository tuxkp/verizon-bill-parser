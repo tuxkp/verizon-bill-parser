{
  "nbformat": 4,
  "nbformat_minor": 0,
  "metadata": {
    "colab": {
      "provenance": [],
      "include_colab_link": true
    },
    "kernelspec": {
      "name": "python3",
      "display_name": "Python 3"
    },
    "language_info": {
      "name": "python"
    }
  },
  "cells": [
    {
      "cell_type": "markdown",
      "metadata": {
        "id": "view-in-github",
        "colab_type": "text"
      },
      "source": [
        "<a href=\"https://colab.research.google.com/github/tuxkp/verizon-bill-parser/blob/main/vzw.ipynb\" target=\"_parent\"><img src=\"https://colab.research.google.com/assets/colab-badge.svg\" alt=\"Open In Colab\"/></a>"
      ]
    },
    {
      "cell_type": "markdown",
      "source": [
        "Install Dependencies"
      ],
      "metadata": {
        "id": "ieHho63MQjrJ"
      }
    },
    {
      "cell_type": "code",
      "execution_count": null,
      "metadata": {
        "id": "EviKSVn6Qi-J"
      },
      "outputs": [],
      "source": [
        "pip install --ignore-installed git+https://github.com/tuxkp/verizon-bill-parser.git"
      ]
    },
    {
      "cell_type": "markdown",
      "source": [
        "Test Module"
      ],
      "metadata": {
        "id": "IL9_svEhTlE2"
      }
    },
    {
      "cell_type": "markdown",
      "source": [],
      "metadata": {
        "id": "Hdk6tgfmbzUd"
      }
    },
    {
      "cell_type": "code",
      "source": [
        "#Mount Drive\n",
        "from google.colab import drive\n",
        "drive.mount('/content/drive')\n",
        "\n",
        "\n",
        "\n"
      ],
      "metadata": {
        "colab": {
          "base_uri": "https://localhost:8080/"
        },
        "id": "gyIZzGjHbNwR",
        "outputId": "071b9280-3a0f-4db1-b770-cbd006e7caef"
      },
      "execution_count": null,
      "outputs": [
        {
          "output_type": "stream",
          "name": "stdout",
          "text": [
            "Drive already mounted at /content/drive; to attempt to forcibly remount, call drive.mount(\"/content/drive\", force_remount=True).\n"
          ]
        }
      ]
    },
    {
      "cell_type": "code",
      "source": [
        "from verizon_bill_parser import parser\n",
        "import pandas as pd\n",
        "import os\n",
        "\n",
        "folder_path = '/content/drive/MyDrive/VerizonBills/'\n",
        "\n",
        "try:\n",
        "  parsedFileList = parser.parse_directory(folder_path)\n",
        "  for parsedFile in parsedFileList:\n",
        "    print(f\"\\n*** FILE *** ${parsedFile['fileName']} ****\\n\")\n",
        "    df = pd.DataFrame(parsedFile['amounts'])\n",
        "    print(df)\n",
        "\n",
        "except Exception as e:\n",
        "  print(e)\n"
      ],
      "metadata": {
        "id": "T9DlCQH5Q0X_"
      },
      "execution_count": null,
      "outputs": []
    },
    {
      "cell_type": "code",
      "source": [],
      "metadata": {
        "id": "0MFk9XjRb4BG"
      },
      "execution_count": null,
      "outputs": []
    }
  ]
}